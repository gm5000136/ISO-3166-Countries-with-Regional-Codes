{
  "nbformat": 4,
  "nbformat_minor": 0,
  "metadata": {
    "colab": {
      "provenance": [],
      "collapsed_sections": [
        "IT4yWFy8s9XN",
        "qiLQg2Q6taJN"
      ],
      "include_colab_link": true
    },
    "kernelspec": {
      "name": "python3",
      "display_name": "Python 3"
    },
    "language_info": {
      "name": "python"
    }
  },
  "cells": [
    {
      "cell_type": "markdown",
      "metadata": {
        "id": "view-in-github",
        "colab_type": "text"
      },
      "source": [
        "<a href=\"https://colab.research.google.com/github/gm5000136/ISO-3166-Countries-with-Regional-Codes/blob/master/Water_Aid_workshop_2025_09_02.ipynb\" target=\"_parent\"><img src=\"https://colab.research.google.com/assets/colab-badge.svg\" alt=\"Open In Colab\"/></a>"
      ]
    },
    {
      "cell_type": "markdown",
      "source": [
        "# Welcome to the AI for Insight Workshop!\n",
        "\n",
        "Today we're going to explore how AI can be your \"strategic companion\" - a powerful tool that helps you find new insights in your data and translate them into actionable business intelligence.\n",
        "\n",
        "By the end of this workshop, you'll know how to:\n",
        "- Use AI to discover patterns in messy, unstructured data\n",
        "- Convert business questions into technical queries using AI\n",
        "- Transform data insights into strategic recommendations\n",
        "\n",
        "Let's dive in and see what AI can reveal about your work!\n"
      ],
      "metadata": {
        "id": "IEQHSJm_ds-c"
      }
    },
    {
      "cell_type": "markdown",
      "source": [
        "# Activity 1: The Discovery Sprint\n",
        "\n",
        "**Goal:** Use AI to find hidden insights in unstructured data.\n",
        "\n",
        "We're working with real WaterAid supporter survey responses - exactly the kind of unstructured data that's difficult to analyze manually but where AI can shine.\n",
        "\n",
        "**The Challenge:** Instead of reading through 1,871 responses manually, we'll use AI to quickly identify themes, motivations, and insights that supporters are expressing.\n",
        "\n",
        "**What You'll Learn:**\n",
        "- How AI can process large volumes of text data quickly\n",
        "- Different analytical approaches reveal different insights\n",
        "- The importance of prompt engineering for quality results\n",
        "- How to move from data to actionable insights\n",
        "\n",
        "Let's start by setting up our analysis tools."
      ],
      "metadata": {
        "id": "exMweW-8gGyQ"
      }
    },
    {
      "cell_type": "code",
      "source": [
        "import pandas as pd\n",
        "import numpy as np\n",
        "import os\n",
        "import requests\n",
        "from openai import OpenAI\n",
        "import textwrap\n",
        "\n",
        "# Download files from R2\n",
        "api_key_url = \"https://pub-349311c917e04ae9a03bab94c8354511.r2.dev/aiungeub44w8h9ff.txt\"\n",
        "supporter_csv_url = \"https://pub-349311c917e04ae9a03bab94c8354511.r2.dev/supporter_survey_open_ends%202022.csv\"\n",
        "demographic_csv_url = \"https://pub-349311c917e04ae9a03bab94c8354511.r2.dev/demographic_crosstabs_final.csv\"\n",
        "\n",
        "# Load API key\n",
        "api_key_response = requests.get(api_key_url)\n",
        "api_key = api_key_response.text.strip()\n",
        "os.environ['OPENAI_API_KEY'] = api_key\n",
        "\n",
        "# Initialize OpenAI client\n",
        "client = OpenAI(api_key=api_key)\n",
        "\n",
        "# Download and save CSV files locally\n",
        "supporter_csv_response = requests.get(supporter_csv_url)\n",
        "with open('Supporter survey open ends 2022.csv', 'wb') as f:\n",
        "    f.write(supporter_csv_response.content)\n",
        "\n",
        "demographic_csv_response = requests.get(demographic_csv_url)\n",
        "with open('demographic_crosstabs_cleaned.csv', 'wb') as f:\n",
        "    f.write(demographic_csv_response.content)\n",
        "\n",
        "print(\"✅ Data and API key loaded from Cloudflare R2!\")\n",
        "\n",
        "# print_wrapped, print_wrapped_preserve_structure and print_wrapped_stream make it easier to see the\n",
        "# outputs from our LLM through this codebook\n",
        "def print_wrapped(text, width=80):\n",
        "    \"\"\"Print text with word wrapping at specified width\"\"\"\n",
        "    wrapped_text = textwrap.fill(text, width=width)\n",
        "    print(wrapped_text)\n",
        "\n",
        "def print_wrapped_preserve_structure(text, width=80):\n",
        "    \"\"\"Print text with wrapping while preserving line breaks and structure\"\"\"\n",
        "    lines = text.split('\\n')\n",
        "    for line in lines:\n",
        "        if line.strip():  # Non-empty lines\n",
        "            wrapped = textwrap.fill(line, width=width)\n",
        "            print(wrapped)\n",
        "        else:  # Empty lines\n",
        "            print()\n",
        "\n",
        "print(\"Setup complete - ready to analyze supporter data\")"
      ],
      "metadata": {
        "id": "4avZd-Jquztf"
      },
      "execution_count": null,
      "outputs": []
    },
    {
      "cell_type": "markdown",
      "source": [
        "## Phase 0: Load in real supporter data\n",
        "\n",
        "We're using actual survey responses from WaterAid supporters who answered the question: *\"With so many fantastic charities delivering great work, what is it that makes WaterAid one of the charities you choose to support?\"*\n",
        "\n",
        "This gives us authentic insights into donor motivations rather than synthetic examples. We'll sample 150 responses to balance comprehensive analysis with practical workshop timing."
      ],
      "metadata": {
        "id": "1VMWSIXmA4TB"
      }
    },
    {
      "cell_type": "code",
      "source": [
        "# Load and prepare WaterAid survey data\n",
        "df = pd.read_csv('Supporter survey open ends 2022.csv')\n",
        "\n",
        "# Clean column names\n",
        "df.columns = ['why_support', 'topic_interests', 'experience_feedback', 'blank']\n",
        "\n",
        "# Get usable text data\n",
        "why_support_data = df['why_support'].dropna()\n",
        "experience_data = df['experience_feedback'].dropna()\n",
        "\n",
        "print(f\"Loaded {len(df)} total survey responses\")\n",
        "print(f\"Why support WaterAid: {len(why_support_data)} responses\")\n",
        "print(f\"Experience feedback: {len(experience_data)} responses\")\n",
        "\n",
        "# Sample for analysis (150 responses as agreed)\n",
        "sample_size = 150\n",
        "why_sample = why_support_data.sample(min(sample_size, len(why_support_data)), random_state=42)\n",
        "\n",
        "# Create analysis-ready format\n",
        "feedback_data = \"\\n\".join([f\"Response {i+1}: {response}\" for i, response in enumerate(why_sample)])\n",
        "\n",
        "print(f\"\\nReady to analyze {len(why_sample)} responses about why supporters choose WaterAid\")\n",
        "print(f\"\\nSample response: {why_sample.iloc[0][:1000]}...\")"
      ],
      "metadata": {
        "id": "yvSxwzKn5X0s"
      },
      "execution_count": null,
      "outputs": []
    },
    {
      "cell_type": "markdown",
      "source": [
        "## Phase 1: Basic Theme Analysis\n",
        "\n",
        "Now we'll use AI to identify the most common themes in supporter responses. This baseline analysis helps us understand the primary patterns before we dig deeper with different analytical lenses.\n",
        "\n",
        "**What to expect:** AI will process 150 supporter responses and identify recurring themes about why people choose to support WaterAid specifically."
      ],
      "metadata": {
        "id": "ZYISLasAA9vH"
      }
    },
    {
      "cell_type": "code",
      "source": [
        "def analyze_feedback(feedback_text, custom_prompt=None):\n",
        "    \"\"\"\n",
        "    Analyze supporter feedback using AI\n",
        "    \"\"\"\n",
        "    if custom_prompt is None:\n",
        "        prompt = \"\"\"\n",
        "        Analyze the following WaterAid supporter responses and identify the three most common themes.\n",
        "        Respond with a clear bulleted list.\n",
        "\n",
        "        Supporter responses:\n",
        "        \"\"\" + feedback_text\n",
        "    else:\n",
        "        prompt = custom_prompt + \"\\n\\nSupporter responses:\\n\" + feedback_text\n",
        "\n",
        "    try:\n",
        "        response = client.chat.completions.create(\n",
        "            model=\"gpt-5\",\n",
        "            messages=[\n",
        "                {\"role\": \"system\", \"content\": \"You are a fundraising analyst specializing in supporter motivation analysis. Provide clear, actionable insights.\"},\n",
        "                {\"role\": \"user\", \"content\": prompt}\n",
        "            ]\n",
        "            # Note: no streaming since in colab it has little benefit\n",
        "        )\n",
        "\n",
        "        # Get the complete response content\n",
        "        full_response = response.choices[0].message.content\n",
        "\n",
        "        return full_response\n",
        "\n",
        "    except Exception as e:\n",
        "        return f\"Error: {str(e)}\"\n",
        "\n",
        "# Basic theme analysis (using data from previous cell)\n",
        "print(\"Running AI analysis on WaterAid supporter feedback...\")\n",
        "print(\"=\" * 50)\n",
        "result = analyze_feedback(feedback_data)\n",
        "formatted_result = result.replace('\\n- ', '\\n\\n- ')\n",
        "\n",
        "print(\"Main Themes:\")\n",
        "print_wrapped_preserve_structure(formatted_result)"
      ],
      "metadata": {
        "id": "OJ5LQ3iZ5fCx"
      },
      "execution_count": null,
      "outputs": []
    },
    {
      "cell_type": "markdown",
      "source": [
        "## Phase 2: Supporter Segmentation Analysis\n",
        "\n",
        "Not all supporters are motivated by the same factors. Let's see if AI can identify distinct supporter segments based on their response patterns.\n",
        "\n",
        "**Why segment supporters?**\n",
        "- Tailor communication strategies to different motivations\n",
        "- Identify your most engaged supporter types\n",
        "- Develop targeted cultivation approaches\n",
        "- Understand potential conflicts between supporter groups\n",
        "\n",
        "**What AI will identify?**"
      ],
      "metadata": {
        "id": "6q1KAyaeBDdT"
      }
    },
    {
      "cell_type": "code",
      "source": [
        "# Supporter segmentation analysis\n",
        "\n",
        "print(\"SUPPORTER SEGMENTATION\")\n",
        "print(\"=\" * 50)\n",
        "\n",
        "segmentation = analyze_feedback(feedback_data,\n",
        "    \"\"\"\n",
        "    Based on these responses, identify 4 distinct types of WaterAid supporters.\n",
        "\n",
        "    For each type:\n",
        "    - Descriptive name (1 - 3 words)\n",
        "    - Key characteristics (1 - 2 short sentences)\n",
        "    - Primary motivation (1 sentence)\n",
        "    - Best communication approach (1 sentence)\n",
        "    - Three most illustrative quotes\n",
        "    \"\"\")\n",
        "\n",
        "print_wrapped_preserve_structure(segmentation)"
      ],
      "metadata": {
        "id": "fDM-mpEl5kRD"
      },
      "execution_count": null,
      "outputs": []
    },
    {
      "cell_type": "markdown",
      "source": [
        " Hopefully you saw that it's created a set of distinct supporter archetypes with different characteristics, motivations, and communication preferences."
      ],
      "metadata": {
        "id": "uMYeYfcYhf-C"
      }
    },
    {
      "cell_type": "markdown",
      "source": [
        "## Phase 3: Your Custom Analysis\n",
        "\n",
        "Now it's your turn to dig deeper. Based on what you've discovered, what specific questions do you want to explore?\n",
        "\n",
        "**Advanced Prompt Techniques:**\n",
        "- **Assumption analysis**: \"What assumptions about WaterAid do supporters reveal?\"\n",
        "- **Gap analysis**: \"What do supporters NOT mention that might be significant?\"\n",
        "- **Strategic insights**: \"What are your top 3 recommendations based on this feedback?\"\n",
        "- **Tension identification**: \"What potential conflicts exist between different supporter views?\"\n",
        "\n",
        "**Tips for Better Results:**\n",
        "- Be specific about what you want to discover\n",
        "- Ask for actionable insights, not just descriptions\n",
        "- Try \"What if\" scenarios based on the feedback\n",
        "- Compare different supporter perspectives\n",
        "\n",
        "Change the `your_prompt` variable below to explore whatever interests you most about your supporters."
      ],
      "metadata": {
        "id": "1KtpTTocBLKY"
      }
    },
    {
      "cell_type": "code",
      "source": [
        "# Your turn to explore\n",
        "\n",
        "# Change this prompt to investigate what interests you most\n",
        "your_prompt = \"What do supporters NOT mention that might be significant?\"\n",
        "\n",
        "print(\"CUSTOM ANALYSIS\")\n",
        "print(\"=\" * 30)\n",
        "print(f\"Question: {your_prompt}\")\n",
        "print(\"-\" * 50)\n",
        "\n",
        "custom_result = analyze_feedback(feedback_data, your_prompt)\n",
        "print_wrapped_preserve_structure(custom_result)\n",
        "\n",
        "print(\"\\n\" + \"=\" * 50)\n",
        "print(\"Try other prompts by changing 'your_prompt' above:\")\n",
        "print(\"- What do supporters NOT mention that might be significant?\")\n",
        "print(\"- What are supporters most proud of about supporting WaterAid?\")\n",
        "print(\"- How do supporters describe WaterAid's uniqueness?\")\n",
        "print(\"- What concerns or hesitations do supporters express?\")\n",
        "\n",
        "# Uncomment to try multiple analyses:\n",
        "# print(\"\\n\" + \"=\" * 30)\n",
        "# result2 = analyze_feedback(feedback_data, \"What concerns do supporters have about WaterAid?\")\n",
        "# print(\"Supporter Concerns:\")\n",
        "# print(result2)"
      ],
      "metadata": {
        "id": "ba_dL-xC5lhE",
        "collapsed": true
      },
      "execution_count": null,
      "outputs": []
    },
    {
      "cell_type": "markdown",
      "source": [
        "# Activity 2: Business translator\n",
        "## Turning questions into actionable insights\n",
        "\n",
        "**Goal:** Use AI to convert business questions into code that analyzes real WaterAid supporter data.\n",
        "\n",
        "We're working with a WaterAid demographic dataset. This is cross-tabulated so that we can compare datapoints with one another e.g. we can ask, how many people have lived in a country where WaterAid works.\n",
        "\n",
        "This demonstrates how AI can help fundraising and communications teams quickly analyze supporter data to make strategic decisions."
      ],
      "metadata": {
        "id": "IT4yWFy8s9XN"
      }
    },
    {
      "cell_type": "code",
      "source": [
        "# Load demographic data and create summary for AI\n",
        "demo_df = pd.read_csv('demographic_crosstabs_cleaned.csv')\n",
        "\n",
        "# Create a reusable data summary\n",
        "def create_data_context():\n",
        "    # Get all unique categories (same pool used in both columns)\n",
        "    all_categories = (demo_df['answer_text'].unique().tolist())\n",
        "\n",
        "    context = f\"\"\"Dataset: demographic_crosstabs_cleaned.csv - CROSSTAB ANALYSIS DATA\n",
        "\n",
        "IMPORTANT: This is pre-aggregated crosstab data showing intersections between categories.\n",
        "\n",
        "Structure:\n",
        "- Each row shows intersection of TWO categories from the same pool\n",
        "- comparison_dimension and answer_text both draw from identical category values\n",
        "- count = number of people in BOTH categories\n",
        "- percentage = percentage for this intersection\n",
        "- No self-intersections (e.g. male+male doesn't exist)\n",
        "\n",
        "Example: comparison_dimension=\"male\", answer_text=\"I have lived/worked in one of the countries WaterAid works in\", count=15\n",
        "Means: 15 people are BOTH male AND have spent time in countries WaterAid works in.\n",
        "\n",
        "AVAILABLE CATEGORIES (use exact strings for filtering):\n",
        "{all_categories}\n",
        "\n",
        "Total intersections: {len(demo_df)} rows\n",
        "Columns: {list(demo_df.columns)}\n",
        "\n",
        "Sample intersections:\n",
        "{demo_df.head(5).to_string()}\n",
        "\n",
        "TO ANALYZE: Use exact category strings above in pandas filters like:\n",
        "demo_df[(demo_df['comparison_dimension'] == 'male') & (demo_df['answer_text'] == 'university support')]\n",
        "\"\"\"\n",
        "    return context\n",
        "\n",
        "DATA_CONTEXT = create_data_context()\n",
        "# print(DATA_CONTEXT)\n",
        "print(\"📊 Data loaded and summarized for AI analysis\")"
      ],
      "metadata": {
        "collapsed": true,
        "id": "TlaH0EQ6lXwQ"
      },
      "execution_count": null,
      "outputs": []
    },
    {
      "cell_type": "markdown",
      "source": [
        "## Set up our code generation\n",
        "In colab (and any jupyter notebook) we need to run every cell in order to get them into context. Running below will just give a confirmation that the functions we need are now set."
      ],
      "metadata": {
        "id": "1lgBI6EXqFiQ"
      }
    },
    {
      "cell_type": "code",
      "source": [
        "def generate_pandas_analysis_with_ai(question):\n",
        "    \"\"\"Generate pandas code to answer a business question about crosstab data\"\"\"\n",
        "    prompt = f\"\"\"{DATA_CONTEXT}\n",
        "\n",
        "Question: {question}\n",
        "\n",
        "Generate clean Python pandas code to answer this question. Use the dataframe 'demo_df'.\n",
        "Remember: This is crosstab data - look for intersections between categories.\n",
        "Include comments explaining your filtering logic.\"\"\"\n",
        "\n",
        "    response = client.chat.completions.create(\n",
        "        model=\"gpt-5\",\n",
        "        messages=[\n",
        "            {\"role\": \"system\", \"content\": \"You are a data analyst specialized in crosstab analysis. Generate executable pandas code with clear comments. Focus on finding intersections between demographic and behavioral categories.\"},\n",
        "            {\"role\": \"user\", \"content\": prompt}\n",
        "        ]\n",
        "    )\n",
        "\n",
        "    return response.choices[0].message.content\n",
        "\n",
        "def run_business_analysis(question):\n",
        "    \"\"\"Generate and execute pandas analysis code\"\"\"\n",
        "    print(f\"🔍 Analyzing: {question}\")\n",
        "    print(\"=\" * 50)\n",
        "\n",
        "    try:\n",
        "        # Generate code\n",
        "        generated_code = generate_pandas_analysis_with_ai(question)\n",
        "\n",
        "        # Show generated code\n",
        "        print(\"Generated Code:\")\n",
        "        clean_code = generated_code.replace('```python', '').replace('```', '').strip()\n",
        "        print_wrapped_preserve_structure(clean_code)\n",
        "        print(\"\\n\" + \"=\"*50)\n",
        "        print(\"Results:\")\n",
        "\n",
        "        # Execute code with proper environment\n",
        "        exec(clean_code, {'demo_df': demo_df, 'pd': pd, 'np': np, 'numpy': np, 're': __import__('re')})\n",
        "\n",
        "    except Exception as e:\n",
        "        print(f\"❌ Execution Error: {e}\")\n",
        "        print(\"This is likely a code generation issue, not a data problem.\")\n",
        "        print(\"The AI-generated code may need debugging.\")\n",
        "\n",
        "# Confirm functions are loaded\n",
        "print(\"✅ AI analysis functions loaded successfully!\")\n",
        "print(\"You can now use: run_business_analysis('your question here')\")"
      ],
      "metadata": {
        "id": "ndho4RW5qIXI"
      },
      "execution_count": null,
      "outputs": []
    },
    {
      "cell_type": "markdown",
      "source": [
        "### Test our code generation"
      ],
      "metadata": {
        "id": "7aNjhmeYqQJD"
      }
    },
    {
      "cell_type": "code",
      "source": [
        "# Test with a more appropriate question for our crosstab data\n",
        "test_question = \"Show me the most common category intersections by count\"\n",
        "\n",
        "print(\"🧪 Testing AI Integration...\")\n",
        "try:\n",
        "    test_code = generate_pandas_analysis_with_ai(test_question)\n",
        "    print(\"✅ AI connection successful!\")\n",
        "    print(\"\\nGenerated code preview:\")\n",
        "    preview = test_code.replace('```python', '').replace('```', '').strip()\n",
        "    print(preview[:300] + \"...\" if len(preview) > 300 else preview)\n",
        "except Exception as e:\n",
        "    print(f\"❌ AI connection failed: {e}\")\n",
        "    print(\"Please check your API key and internet connection\")"
      ],
      "metadata": {
        "id": "ofNPBkH-qSQZ"
      },
      "execution_count": null,
      "outputs": []
    },
    {
      "cell_type": "markdown",
      "source": [
        "### Some example questions"
      ],
      "metadata": {
        "id": "ti4vYi-aqY9T"
      }
    },
    {
      "cell_type": "code",
      "source": [
        "# Helper to explore the data first\n",
        "run_business_analysis(\"What categories contain the word 'age' or years?\")"
      ],
      "metadata": {
        "id": "hI5vdLturfsq",
        "collapsed": true
      },
      "execution_count": null,
      "outputs": []
    },
    {
      "cell_type": "code",
      "source": [
        "# Examples that match our crosstab data structure\n",
        "run_business_analysis(\"Compare how different age groups prefer to support WaterAid - show the top support methods for each age category\")"
      ],
      "metadata": {
        "id": "UUyJQJGfrjkS",
        "collapsed": true
      },
      "execution_count": null,
      "outputs": []
    },
    {
      "cell_type": "code",
      "source": [
        "# Or if you have specific categories you know exist:\n",
        "run_business_analysis(\"What motivates younger supporters (under 35) differently from older supporters (55+) to donate to WaterAid?\")"
      ],
      "metadata": {
        "id": "K492nxtUqayW",
        "collapsed": true
      },
      "execution_count": null,
      "outputs": []
    },
    {
      "cell_type": "markdown",
      "source": [
        "## Workshop Wrap-Up 🎉\n",
        "\n",
        "Congratulations! You've just experienced the complete AI-powered insight workflow:\n",
        "\n",
        "**✅ What You've Accomplished:**\n",
        "\n",
        "1. **Discovery Sprint** - Used AI to find themes in unstructured feedback data\n",
        "2. **Business Translation** - Converted business questions into technical queries  \n",
        "3. **Strategic Analysis** - Turned data results into actionable recommendations\n",
        "\n",
        "**🚀 Key Takeaways:**\n",
        "\n",
        "- **AI as Strategic Companion**: AI doesn't replace human judgment - it amplifies it\n",
        "- **Prompt Engineering Matters**: How you ask questions determines the quality of insights\n",
        "- **End-to-End Workflow**: From messy data to strategic recommendations in minutes\n",
        "\n",
        "**💡 Next Steps:**\n",
        "\n",
        "- Experiment with different prompts and questions\n",
        "- Try this workflow with your own data  \n",
        "- Think about where this could save time in your current processes\n",
        "\n",
        "**Questions for Discussion:**\n",
        "- Where else could this workflow be useful in your organization?\n",
        "- What other types of unstructured data could benefit from AI analysis?\n",
        "- How might this change how you approach data analysis tasks?\n",
        "\n",
        "*Thank you for participating in the AI for Insight Workshop!*"
      ],
      "metadata": {
        "id": "qiLQg2Q6taJN"
      }
    },
    {
      "cell_type": "code",
      "source": [
        "# Optional: Clean up and final thoughts\n",
        "\n",
        "print(\"🎯 Workshop Complete!\")\n",
        "print(\"\\n📈 What we accomplished:\")\n",
        "print(\"• Analyzed supporter feedback themes using AI\")\n",
        "print(\"• Generated SQL queries from business questions\")\n",
        "print(\"• Created strategic recommendations from data\")\n",
        "print(\"\\n💡 Ready to apply these techniques to your real data!\")\n",
        "\n",
        "# Optional: Show workshop statistics\n",
        "print(f\"\\n📊 Workshop Stats:\")\n",
        "print(f\"• Analyzed {len(sample_feedback)} feedback entries\")\n",
        "print(f\"• Queried database with {len(df)} supporter records\")\n",
        "print(f\"• Generated strategic insights in under 10 minutes\")\n",
        "\n",
        "print(\"\\n🚀 Keep experimenting with different prompts and data!\")"
      ],
      "metadata": {
        "id": "OVne2YBqtfO7"
      },
      "execution_count": null,
      "outputs": []
    },
    {
      "cell_type": "markdown",
      "source": [
        "\n"
      ],
      "metadata": {
        "id": "OimBeiFnEIUH"
      }
    }
  ]
}